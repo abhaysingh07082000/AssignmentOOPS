{
 "cells": [
  {
   "cell_type": "markdown",
   "id": "1ef568b8-342d-4645-9a12-a416564b7795",
   "metadata": {},
   "source": [
    "Q1. What is Abstraction in OOps? Explain with an example."
   ]
  },
  {
   "cell_type": "code",
   "execution_count": 2,
   "id": "9e757ffd-c668-480d-99be-10905468f911",
   "metadata": {},
   "outputs": [
    {
     "data": {
      "text/plain": [
       "'Abstraction-It is the concept in OOPS by which we can hide the implemetation details of the system and shows only necessary features to\\nthe end users.'"
      ]
     },
     "execution_count": 2,
     "metadata": {},
     "output_type": "execute_result"
    }
   ],
   "source": [
    "'''Abstraction-It is the concept in OOPS by which we can hide the implemetation details of the system and shows only necessary features to\n",
    "the end users.'''"
   ]
  },
  {
   "cell_type": "code",
   "execution_count": 3,
   "id": "3df45776-7651-4552-9c28-72691daf8c44",
   "metadata": {},
   "outputs": [
    {
     "name": "stdout",
     "output_type": "stream",
     "text": [
      "Car engine started\n",
      "Car is driving\n",
      "Car engine stopped\n"
     ]
    }
   ],
   "source": [
    "#Example-\n",
    "\n",
    "from abc import ABC, abstractmethod\n",
    "\n",
    "# Abstract class\n",
    "class Vehicle(ABC):\n",
    "    @abstractmethod\n",
    "    def start_engine(self):\n",
    "        pass\n",
    "\n",
    "    @abstractmethod\n",
    "    def stop_engine(self):\n",
    "        pass\n",
    "\n",
    "    @abstractmethod\n",
    "    def drive(self):\n",
    "        pass\n",
    "\n",
    "# Concrete class\n",
    "class Car(Vehicle):\n",
    "    def start_engine(self):\n",
    "        print(\"Car engine started\")\n",
    "\n",
    "    def stop_engine(self):\n",
    "        print(\"Car engine stopped\")\n",
    "\n",
    "    def drive(self):\n",
    "        print(\"Car is driving\")\n",
    "\n",
    "# Using the Car class\n",
    "my_car = Car()\n",
    "my_car.start_engine()\n",
    "my_car.drive()\n",
    "my_car.stop_engine()\n"
   ]
  },
  {
   "cell_type": "markdown",
   "id": "c8f73a50-da23-46a5-8d99-b048fa77e20d",
   "metadata": {},
   "source": [
    "Q2. Differentiate between Abstraction and Encapsulation. Explain with an example."
   ]
  },
  {
   "cell_type": "code",
   "execution_count": 4,
   "id": "3caee035-7245-48ed-9d29-d2e8558020f6",
   "metadata": {},
   "outputs": [
    {
     "data": {
      "text/plain": [
       "'Encapsulation is a mechanism that packs data and methods into a single unit. It hides the implementation details of an object from the \\nuser. '"
      ]
     },
     "execution_count": 4,
     "metadata": {},
     "output_type": "execute_result"
    }
   ],
   "source": [
    "'''Abstraction-It is the concept in OOPS by which we can hide the implemetation details of the system and shows only necessary features to\n",
    "the end users.'''\n",
    "\n",
    "'''Encapsulation is a mechanism that packs data and methods into a single unit. It hides the implementation details of an object from the \n",
    "user. '''"
   ]
  },
  {
   "cell_type": "code",
   "execution_count": null,
   "id": "144bc92e-1c9b-48c6-8960-f6ea06c64e61",
   "metadata": {},
   "outputs": [],
   "source": [
    "#Example-Abstraction\n",
    "\n",
    "from abc import ABC, abstractmethod\n",
    "\n",
    "# Abstract class\n",
    "class Vehicle(ABC):\n",
    "    @abstractmethod\n",
    "    def start_engine(self):\n",
    "        pass\n",
    "\n",
    "    @abstractmethod\n",
    "    def stop_engine(self):\n",
    "        pass\n",
    "\n",
    "    @abstractmethod\n",
    "    def drive(self):\n",
    "        pass\n",
    "\n",
    "# Concrete class\n",
    "class Car(Vehicle):\n",
    "    def start_engine(self):\n",
    "        print(\"Car engine started\")\n",
    "\n",
    "    def stop_engine(self):\n",
    "        print(\"Car engine stopped\")\n",
    "\n",
    "    def drive(self):\n",
    "        print(\"Car is driving\")\n",
    "\n",
    "# Using the Car class\n",
    "my_car = Car()\n",
    "my_car.start_engine()\n",
    "my_car.drive()\n",
    "my_car.stop_engine()\n"
   ]
  },
  {
   "cell_type": "code",
   "execution_count": 5,
   "id": "ca4b5f32-73fb-47ab-a159-7e78b020a435",
   "metadata": {},
   "outputs": [
    {
     "name": "stdout",
     "output_type": "stream",
     "text": [
      "1300\n"
     ]
    }
   ],
   "source": [
    "#Encapsulation\n",
    "class BankAccount:\n",
    "    def __init__(self, initial_balance):\n",
    "        self.__balance = initial_balance  # Private attribute\n",
    "\n",
    "    def deposit(self, amount):\n",
    "        if amount > 0:\n",
    "            self.__balance += amount\n",
    "\n",
    "    def withdraw(self, amount):\n",
    "        if 0 < amount <= self.__balance:\n",
    "            self.__balance -= amount\n",
    "\n",
    "    def get_balance(self):\n",
    "        return self.__balance\n",
    "\n",
    "# Using the BankAccount class\n",
    "account = BankAccount(1000)\n",
    "account.deposit(500)\n",
    "account.withdraw(200)\n",
    "print(account.get_balance())  # Output: 1300\n"
   ]
  },
  {
   "cell_type": "markdown",
   "id": "4b17c205-e671-4ca1-8fec-73c0d20f9a60",
   "metadata": {},
   "source": [
    "#Q3. What is abc module in python? Why is it used?"
   ]
  },
  {
   "cell_type": "markdown",
   "id": "9d3a6958-4414-4327-af4c-e2e10d9b6d14",
   "metadata": {},
   "source": [
    "'''The abc module in Python stands for Abstract Base Classes. It provides tools for defining and working with abstract base classes, \n",
    "which are classes that cannot be instantiated on their own and are meant to be subclassed. The primary purpose of abstract base classes \n",
    "is to define common interfaces for a group of related classes.'''\n"
   ]
  },
  {
   "cell_type": "markdown",
   "id": "eb08d090-ac53-46de-83d3-bfd6a706fcc7",
   "metadata": {},
   "source": [
    "Define a Clear Interface:\n",
    "\n",
    "Purpose: It allows us to define a common interface (set of methods) that all subclasses must implement.\n",
    "Benefit: This ensures that different classes provide the same methods, making them interchangeable and consistent in how they interact\n",
    "with other parts of the code.\n",
    "\n",
    "Prevent Mistakes:\n",
    "\n",
    "Purpose: By using abstract base classes, we prevent the creation of incomplete classes that miss essential methods.\n",
    "Benefit: This helps avoid runtime errors and ensures that all derived classes have the necessary methods.\n",
    "\n",
    "Enforce Method Implementation:\n",
    "\n",
    "Purpose: Abstract base classes define methods that must be implemented in any subclass.\n",
    "Benefit: This enforces a contract that subclasses must adhere to, which improves code reliability and readability.\n",
    "\n",
    "Facilitate Code Organization:\n",
    "\n",
    "Purpose: It helps in organizing code by grouping related methods and attributes into a single abstract class.\n",
    "Benefit: This makes it easier to manage and understand the structure of your code.\n",
    "\n",
    "Support Polymorphism:\n",
    "\n",
    "Purpose: Abstract base classes enable polymorphism, allowing you to treat different subclasses through a common interface.\n",
    "Benefit: This makes your code more flexible and allows you to use different subclasses interchangeably"
   ]
  },
  {
   "cell_type": "markdown",
   "id": "be93802f-353e-4f15-9f69-716f2f050a80",
   "metadata": {},
   "source": [
    "Q4. How can we achieve data abstraction?"
   ]
  },
  {
   "cell_type": "raw",
   "id": "11728e76-da7d-4d4f-b70e-fb62def75bb3",
   "metadata": {},
   "source": [
    "We can achieved data abstraction by hiding the complex details of data and showing only the essential features.\n",
    "\n",
    "This we can do by following ways-\n",
    "1.Abstract Base Classes: Define a common interface with abstract methods.\n",
    "2.Encapsulation: Hide internal data and provide controlled access through methods.\n",
    "3.Interfaces and Abstract Methods: Ensure that subclasses follow a specific contract.\n",
    "4.Data Hiding with Properties: Use getters and setters to control access to private data."
   ]
  },
  {
   "cell_type": "markdown",
   "id": "e2f0626b-df00-469f-9ada-8ed7b0c72095",
   "metadata": {},
   "source": [
    "Q5. Can we create an instance of an abstract class? Explain your answer."
   ]
  },
  {
   "cell_type": "raw",
   "id": "c09ce5da-d683-4eb7-9f69-ce360eff2cdf",
   "metadata": {},
   "source": [
    "No, we cannot create an instance of an abstract class in Python.\n",
    "\n",
    "There are lot of reason mentioned below-\n",
    "Purpose of Abstract Classes:\n",
    "\n",
    "Abstract classes are designed to be templates or blueprints for other classes. They define methods that must be implemented by any subclass\n",
    "but do not provide complete implementations themselves.\n",
    "                                                           \n",
    "Abstract Methods:\n",
    "\n",
    "Abstract classes often contain abstract methods, which are methods that are declared but not implemented in the abstract class. \n",
    "These methods are meant to be implemented by subclasses.\n",
    "Instantiation Restriction:\n",
    "\n",
    "Since an abstract class may have one or more abstract methods that lack implementation, it is considered incomplete. Therefore,\n",
    "Python prevents the creation of instances of abstract classes to ensure that only fully-implemented subclasses are instantiated."
   ]
  }
 ],
 "metadata": {
  "kernelspec": {
   "display_name": "Python 3 (ipykernel)",
   "language": "python",
   "name": "python3"
  },
  "language_info": {
   "codemirror_mode": {
    "name": "ipython",
    "version": 3
   },
   "file_extension": ".py",
   "mimetype": "text/x-python",
   "name": "python",
   "nbconvert_exporter": "python",
   "pygments_lexer": "ipython3",
   "version": "3.12.4"
  }
 },
 "nbformat": 4,
 "nbformat_minor": 5
}
